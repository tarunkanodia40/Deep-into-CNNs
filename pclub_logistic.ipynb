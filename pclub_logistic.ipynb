{
 "cells": [
  {
   "cell_type": "code",
   "execution_count": 1,
   "metadata": {},
   "outputs": [],
   "source": [
    "import numpy as np\n",
    "import pandas as pd"
   ]
  },
  {
   "cell_type": "markdown",
   "metadata": {},
   "source": [
    "### Loading and Preprocessing the Data"
   ]
  },
  {
   "cell_type": "code",
   "execution_count": 2,
   "metadata": {},
   "outputs": [
    {
     "data": {
      "text/html": [
       "<div>\n",
       "<style scoped>\n",
       "    .dataframe tbody tr th:only-of-type {\n",
       "        vertical-align: middle;\n",
       "    }\n",
       "\n",
       "    .dataframe tbody tr th {\n",
       "        vertical-align: top;\n",
       "    }\n",
       "\n",
       "    .dataframe thead th {\n",
       "        text-align: right;\n",
       "    }\n",
       "</style>\n",
       "<table border=\"1\" class=\"dataframe\">\n",
       "  <thead>\n",
       "    <tr style=\"text-align: right;\">\n",
       "      <th></th>\n",
       "      <th>Pregnancies</th>\n",
       "      <th>Glucose</th>\n",
       "      <th>BloodPressure</th>\n",
       "      <th>SkinThickness</th>\n",
       "      <th>Insulin</th>\n",
       "      <th>BMI</th>\n",
       "      <th>DiabetesPedigreeFunction</th>\n",
       "      <th>Age</th>\n",
       "      <th>Outcome</th>\n",
       "    </tr>\n",
       "  </thead>\n",
       "  <tbody>\n",
       "    <tr>\n",
       "      <th>0</th>\n",
       "      <td>6</td>\n",
       "      <td>148</td>\n",
       "      <td>72</td>\n",
       "      <td>35</td>\n",
       "      <td>0</td>\n",
       "      <td>33.6</td>\n",
       "      <td>0.627</td>\n",
       "      <td>50</td>\n",
       "      <td>1</td>\n",
       "    </tr>\n",
       "    <tr>\n",
       "      <th>1</th>\n",
       "      <td>1</td>\n",
       "      <td>85</td>\n",
       "      <td>66</td>\n",
       "      <td>29</td>\n",
       "      <td>0</td>\n",
       "      <td>26.6</td>\n",
       "      <td>0.351</td>\n",
       "      <td>31</td>\n",
       "      <td>0</td>\n",
       "    </tr>\n",
       "    <tr>\n",
       "      <th>2</th>\n",
       "      <td>8</td>\n",
       "      <td>183</td>\n",
       "      <td>64</td>\n",
       "      <td>0</td>\n",
       "      <td>0</td>\n",
       "      <td>23.3</td>\n",
       "      <td>0.672</td>\n",
       "      <td>32</td>\n",
       "      <td>1</td>\n",
       "    </tr>\n",
       "    <tr>\n",
       "      <th>3</th>\n",
       "      <td>1</td>\n",
       "      <td>89</td>\n",
       "      <td>66</td>\n",
       "      <td>23</td>\n",
       "      <td>94</td>\n",
       "      <td>28.1</td>\n",
       "      <td>0.167</td>\n",
       "      <td>21</td>\n",
       "      <td>0</td>\n",
       "    </tr>\n",
       "    <tr>\n",
       "      <th>4</th>\n",
       "      <td>0</td>\n",
       "      <td>137</td>\n",
       "      <td>40</td>\n",
       "      <td>35</td>\n",
       "      <td>168</td>\n",
       "      <td>43.1</td>\n",
       "      <td>2.288</td>\n",
       "      <td>33</td>\n",
       "      <td>1</td>\n",
       "    </tr>\n",
       "    <tr>\n",
       "      <th>...</th>\n",
       "      <td>...</td>\n",
       "      <td>...</td>\n",
       "      <td>...</td>\n",
       "      <td>...</td>\n",
       "      <td>...</td>\n",
       "      <td>...</td>\n",
       "      <td>...</td>\n",
       "      <td>...</td>\n",
       "      <td>...</td>\n",
       "    </tr>\n",
       "    <tr>\n",
       "      <th>763</th>\n",
       "      <td>10</td>\n",
       "      <td>101</td>\n",
       "      <td>76</td>\n",
       "      <td>48</td>\n",
       "      <td>180</td>\n",
       "      <td>32.9</td>\n",
       "      <td>0.171</td>\n",
       "      <td>63</td>\n",
       "      <td>0</td>\n",
       "    </tr>\n",
       "    <tr>\n",
       "      <th>764</th>\n",
       "      <td>2</td>\n",
       "      <td>122</td>\n",
       "      <td>70</td>\n",
       "      <td>27</td>\n",
       "      <td>0</td>\n",
       "      <td>36.8</td>\n",
       "      <td>0.340</td>\n",
       "      <td>27</td>\n",
       "      <td>0</td>\n",
       "    </tr>\n",
       "    <tr>\n",
       "      <th>765</th>\n",
       "      <td>5</td>\n",
       "      <td>121</td>\n",
       "      <td>72</td>\n",
       "      <td>23</td>\n",
       "      <td>112</td>\n",
       "      <td>26.2</td>\n",
       "      <td>0.245</td>\n",
       "      <td>30</td>\n",
       "      <td>0</td>\n",
       "    </tr>\n",
       "    <tr>\n",
       "      <th>766</th>\n",
       "      <td>1</td>\n",
       "      <td>126</td>\n",
       "      <td>60</td>\n",
       "      <td>0</td>\n",
       "      <td>0</td>\n",
       "      <td>30.1</td>\n",
       "      <td>0.349</td>\n",
       "      <td>47</td>\n",
       "      <td>1</td>\n",
       "    </tr>\n",
       "    <tr>\n",
       "      <th>767</th>\n",
       "      <td>1</td>\n",
       "      <td>93</td>\n",
       "      <td>70</td>\n",
       "      <td>31</td>\n",
       "      <td>0</td>\n",
       "      <td>30.4</td>\n",
       "      <td>0.315</td>\n",
       "      <td>23</td>\n",
       "      <td>0</td>\n",
       "    </tr>\n",
       "  </tbody>\n",
       "</table>\n",
       "<p>768 rows × 9 columns</p>\n",
       "</div>"
      ],
      "text/plain": [
       "     Pregnancies  Glucose  BloodPressure  SkinThickness  Insulin   BMI  \\\n",
       "0              6      148             72             35        0  33.6   \n",
       "1              1       85             66             29        0  26.6   \n",
       "2              8      183             64              0        0  23.3   \n",
       "3              1       89             66             23       94  28.1   \n",
       "4              0      137             40             35      168  43.1   \n",
       "..           ...      ...            ...            ...      ...   ...   \n",
       "763           10      101             76             48      180  32.9   \n",
       "764            2      122             70             27        0  36.8   \n",
       "765            5      121             72             23      112  26.2   \n",
       "766            1      126             60              0        0  30.1   \n",
       "767            1       93             70             31        0  30.4   \n",
       "\n",
       "     DiabetesPedigreeFunction  Age  Outcome  \n",
       "0                       0.627   50        1  \n",
       "1                       0.351   31        0  \n",
       "2                       0.672   32        1  \n",
       "3                       0.167   21        0  \n",
       "4                       2.288   33        1  \n",
       "..                        ...  ...      ...  \n",
       "763                     0.171   63        0  \n",
       "764                     0.340   27        0  \n",
       "765                     0.245   30        0  \n",
       "766                     0.349   47        1  \n",
       "767                     0.315   23        0  \n",
       "\n",
       "[768 rows x 9 columns]"
      ]
     },
     "execution_count": 2,
     "metadata": {},
     "output_type": "execute_result"
    }
   ],
   "source": [
    "data = pd.read_csv(\"data/diabetes2.csv\")\n",
    "data"
   ]
  },
  {
   "cell_type": "code",
   "execution_count": 3,
   "metadata": {},
   "outputs": [],
   "source": [
    "labels = data[\"Outcome\"]\n",
    "labels = np.array(labels,dtype=int)"
   ]
  },
  {
   "cell_type": "code",
   "execution_count": 4,
   "metadata": {},
   "outputs": [],
   "source": [
    "data=data.drop(\"Outcome\",axis=1)"
   ]
  },
  {
   "cell_type": "code",
   "execution_count": 5,
   "metadata": {},
   "outputs": [],
   "source": [
    "#Normalizing the data\n",
    "from sklearn import preprocessing\n",
    "min_max_scaler = preprocessing.MinMaxScaler()\n",
    "data = pd.DataFrame(min_max_scaler.fit_transform(data), columns=data.columns, index=data.index)"
   ]
  },
  {
   "cell_type": "code",
   "execution_count": 6,
   "metadata": {},
   "outputs": [
    {
     "data": {
      "text/plain": [
       "array([[0.35294118, 0.74371859, 0.59016393, ..., 0.50074516, 0.23441503,\n",
       "        0.48333333],\n",
       "       [0.05882353, 0.42713568, 0.54098361, ..., 0.39642325, 0.11656704,\n",
       "        0.16666667],\n",
       "       [0.47058824, 0.91959799, 0.52459016, ..., 0.34724292, 0.25362938,\n",
       "        0.18333333],\n",
       "       ...,\n",
       "       [0.29411765, 0.6080402 , 0.59016393, ..., 0.390462  , 0.07130658,\n",
       "        0.15      ],\n",
       "       [0.05882353, 0.63316583, 0.49180328, ..., 0.4485842 , 0.11571307,\n",
       "        0.43333333],\n",
       "       [0.05882353, 0.46733668, 0.57377049, ..., 0.45305514, 0.10119556,\n",
       "        0.03333333]])"
      ]
     },
     "execution_count": 6,
     "metadata": {},
     "output_type": "execute_result"
    }
   ],
   "source": [
    " data=data.to_numpy()\n",
    "data"
   ]
  },
  {
   "cell_type": "code",
   "execution_count": 7,
   "metadata": {},
   "outputs": [],
   "source": [
    "from sklearn.model_selection import train_test_split"
   ]
  },
  {
   "cell_type": "code",
   "execution_count": 8,
   "metadata": {},
   "outputs": [],
   "source": [
    "labels=labels.reshape(labels.shape[0],1)"
   ]
  },
  {
   "cell_type": "code",
   "execution_count": 9,
   "metadata": {},
   "outputs": [],
   "source": [
    "train_data,test_data,train_labels,test_labels = train_test_split(data,labels,test_size=0.2)"
   ]
  },
  {
   "cell_type": "code",
   "execution_count": 10,
   "metadata": {},
   "outputs": [
    {
     "data": {
      "text/plain": [
       "((614, 8), (154, 8), (614, 1), (154, 1))"
      ]
     },
     "execution_count": 10,
     "metadata": {},
     "output_type": "execute_result"
    }
   ],
   "source": [
    "train_data.shape,test_data.shape,train_labels.shape,test_labels.shape"
   ]
  },
  {
   "cell_type": "code",
   "execution_count": 11,
   "metadata": {},
   "outputs": [],
   "source": [
    "m_train=train_data.shape[0]\n",
    "m_test=test_data.shape[0]"
   ]
  },
  {
   "cell_type": "code",
   "execution_count": 12,
   "metadata": {},
   "outputs": [],
   "source": [
    "#Splitting the data into train and test splits\n",
    "train_data,test_data,train_labels,test_labels=train_data.T,test_data.T,train_labels.T,test_labels.T\n"
   ]
  },
  {
   "cell_type": "markdown",
   "metadata": {},
   "source": [
    "## Utility Functions"
   ]
  },
  {
   "cell_type": "code",
   "execution_count": 13,
   "metadata": {},
   "outputs": [],
   "source": [
    "#Activation Function\n",
    "def sigmoid(z):\n",
    "    s=1/(1+np.exp(-z))\n",
    "    return s"
   ]
  },
  {
   "cell_type": "code",
   "execution_count": 14,
   "metadata": {},
   "outputs": [],
   "source": [
    "def initialize_with_zeros(dim):\n",
    "    w = np.zeros(shape=(dim, 1))\n",
    "    b = 0\n",
    "\n",
    "    assert(w.shape == (dim, 1))\n",
    "    assert(isinstance(b, float) or isinstance(b, int))\n",
    "    \n",
    "    return w, b"
   ]
  },
  {
   "cell_type": "code",
   "execution_count": 15,
   "metadata": {},
   "outputs": [],
   "source": [
    "#Forward and backward propogation \n",
    "def forward_and_backward_propogation(w,b,X,Y):\n",
    "    m = X.shape[1]\n",
    "    #Forward Proppgation\n",
    "    A = sigmoid( w.T @ X + b )                                   \n",
    "    cost = -1 / m * np.sum(Y * np.log(A) + (1-Y) * np.log(1-A)) \n",
    "    \n",
    "    # Backward Propogation\n",
    "    dw = 1/m * X @ (A - Y).T\n",
    "    db = 1/m * np.sum(A - Y)\n",
    "    \n",
    "    cost = np.squeeze(cost)\n",
    "    assert(cost.shape == ())\n",
    "    \n",
    "    grads = {\"dw\": dw,\n",
    "             \"db\": db}\n",
    "    \n",
    "    return grads, cost\n",
    "    "
   ]
  },
  {
   "cell_type": "code",
   "execution_count": 16,
   "metadata": {},
   "outputs": [],
   "source": [
    "def predict(w, b, X):\n",
    "    \n",
    "    \n",
    "    m = X.shape[1]\n",
    "    Y_prediction = np.zeros((1,m))\n",
    "    w = w.reshape(X.shape[0], 1)\n",
    "    \n",
    "    \n",
    "    A = sigmoid(w.T @ X + b) \n",
    "    \n",
    "    for i in range(A.shape[1]):\n",
    "        Y_prediction[:, i] = (A[:, i] > 0.5) * 1\n",
    "    \n",
    "    assert(Y_prediction.shape == (1, m))\n",
    "    \n",
    "    return Y_prediction"
   ]
  },
  {
   "cell_type": "code",
   "execution_count": 17,
   "metadata": {},
   "outputs": [],
   "source": [
    "def optimizer(w,b,X,Y,num_epochs,learning_rate):\n",
    "    costs=[]\n",
    "    accuracies = []\n",
    "    \n",
    "    for i in range(num_epochs):\n",
    "        gradients,cost = forward_and_backward_propogation(w,b,X,Y)\n",
    "        \n",
    "        dw = gradients[\"dw\"]\n",
    "        db = gradients[\"db\"]\n",
    "        \n",
    "        w = w - learning_rate * dw\n",
    "        b = b - learning_rate * db\n",
    "        costs.append(cost)\n",
    "        \n",
    "        \n",
    "        Y_prediction = predict(w - learning_rate * dw,b - learning_rate * db,X)\n",
    "        accuracy = 1 - np.mean(np.abs(Y_prediction - Y))\n",
    "        accuracies.append(accuracy)\n",
    "        print(\"Epoch {} : (Loss : {}, Correctness : {})\".format(i+1,cost,accuracy))\n",
    "        \n",
    "    params = {\"w\":w,\n",
    "            \"b\":b}\n",
    "    gradients = {\"dw\":dw,\n",
    "                \"db\":db}\n",
    "    return params,gradients,costs,accuracies"
   ]
  },
  {
   "cell_type": "markdown",
   "metadata": {},
   "source": [
    "### Putting it all together"
   ]
  },
  {
   "cell_type": "code",
   "execution_count": 18,
   "metadata": {},
   "outputs": [],
   "source": [
    "\n",
    "def model(X_train, Y_train, X_test, Y_test, num_epochs = 2000, learning_rate = 0.5):\n",
    "   \n",
    "    \n",
    "    w, b = initialize_with_zeros(X_train.shape[0])\n",
    "\n",
    "    \n",
    "    parameters, grads, costs, accuracies = optimizer(w, b, X_train, Y_train, num_epochs, learning_rate)\n",
    "    \n",
    "\n",
    "    w = parameters[\"w\"]\n",
    "    b = parameters[\"b\"]\n",
    "    \n",
    "    \n",
    "    \n",
    "    Y_prediction_test = predict(w, b, X_test)\n",
    "    Y_prediction_train = predict(w, b, X_train)\n",
    "    \n",
    "    print(\"Final test accuracy: {}/{} ({} %)\".format( m_test-np.sum(np.abs(Y_prediction_test - Y_test)),Y_test.shape[1],100 - np.mean(np.abs(Y_prediction_test - Y_test)) * 100))\n",
    "    \n",
    "    d = {\"costs\": costs,\n",
    "         \"accuracies\": accuracies,\n",
    "         \"Y_prediction_test\": Y_prediction_test, \n",
    "         \"Y_prediction_train\" : Y_prediction_train, \n",
    "         \"w\" : w, \n",
    "         \"b\" : b,\n",
    "         \"learning_rate\" : learning_rate,\n",
    "         \"num_epochs\": num_epochs}\n",
    "    \n",
    "    return d"
   ]
  },
  {
   "cell_type": "markdown",
   "metadata": {},
   "source": [
    "## Results"
   ]
  },
  {
   "cell_type": "code",
   "execution_count": 19,
   "metadata": {
    "scrolled": false
   },
   "outputs": [
    {
     "name": "stdout",
     "output_type": "stream",
     "text": [
      "Epoch 1 : (Loss : 0.6931471805599454, Correctness : 0.6563517915309447)\n",
      "Epoch 2 : (Loss : 0.6788113220577365, Correctness : 0.6563517915309447)\n",
      "Epoch 3 : (Loss : 0.6695863620427146, Correctness : 0.6563517915309447)\n",
      "Epoch 4 : (Loss : 0.6635285850100887, Correctness : 0.6563517915309447)\n",
      "Epoch 5 : (Loss : 0.6594370752946821, Correctness : 0.6563517915309447)\n",
      "Epoch 6 : (Loss : 0.6565719197377141, Correctness : 0.6563517915309447)\n",
      "Epoch 7 : (Loss : 0.6544761063337319, Correctness : 0.6563517915309447)\n",
      "Epoch 8 : (Loss : 0.6528659993088195, Correctness : 0.6563517915309447)\n",
      "Epoch 9 : (Loss : 0.651564587229219, Correctness : 0.6563517915309447)\n",
      "Epoch 10 : (Loss : 0.6504607943405378, Correctness : 0.6563517915309447)\n",
      "Epoch 11 : (Loss : 0.6494845680408105, Correctness : 0.6563517915309447)\n",
      "Epoch 12 : (Loss : 0.6485915303030717, Correctness : 0.6563517915309447)\n",
      "Epoch 13 : (Loss : 0.6477534582736814, Correctness : 0.6563517915309447)\n",
      "Epoch 14 : (Loss : 0.646952342361789, Correctness : 0.6563517915309447)\n",
      "Epoch 15 : (Loss : 0.6461766558101705, Correctness : 0.6563517915309447)\n",
      "Epoch 16 : (Loss : 0.6454190007565312, Correctness : 0.6563517915309447)\n",
      "Epoch 17 : (Loss : 0.6446746164116698, Correctness : 0.6563517915309447)\n",
      "Epoch 18 : (Loss : 0.6439404301489489, Correctness : 0.6563517915309447)\n",
      "Epoch 19 : (Loss : 0.6432144520913614, Correctness : 0.6563517915309447)\n",
      "Epoch 20 : (Loss : 0.6424953878876395, Correctness : 0.6563517915309447)\n",
      "Epoch 21 : (Loss : 0.6417823905382791, Correctness : 0.6563517915309447)\n",
      "Epoch 22 : (Loss : 0.6410749010776184, Correctness : 0.6563517915309447)\n",
      "Epoch 23 : (Loss : 0.640372546163133, Correctness : 0.6563517915309447)\n",
      "Epoch 24 : (Loss : 0.6396750721762589, Correctness : 0.6563517915309447)\n",
      "Epoch 25 : (Loss : 0.638982302782943, Correctness : 0.6563517915309447)\n",
      "Epoch 26 : (Loss : 0.6382941115852246, Correctness : 0.6563517915309447)\n",
      "Epoch 27 : (Loss : 0.6376104044893762, Correctness : 0.6563517915309447)\n",
      "Epoch 28 : (Loss : 0.6369311083346376, Correctness : 0.6563517915309447)\n",
      "Epoch 29 : (Loss : 0.6362561635579794, Correctness : 0.6563517915309447)\n",
      "Epoch 30 : (Loss : 0.6355855194618216, Correctness : 0.6563517915309447)\n",
      "Epoch 31 : (Loss : 0.6349191311609368, Correctness : 0.6563517915309447)\n",
      "Epoch 32 : (Loss : 0.6342569576127889, Correctness : 0.6563517915309447)\n",
      "Epoch 33 : (Loss : 0.6335989603469667, Correctness : 0.6563517915309447)\n",
      "Epoch 34 : (Loss : 0.6329451026457041, Correctness : 0.6563517915309447)\n",
      "Epoch 35 : (Loss : 0.6322953490154205, Correctness : 0.6563517915309447)\n",
      "Epoch 36 : (Loss : 0.6316496648459772, Correctness : 0.6563517915309447)\n",
      "Epoch 37 : (Loss : 0.6310080161909729, Correctness : 0.6563517915309447)\n",
      "Epoch 38 : (Loss : 0.6303703696260508, Correctness : 0.6563517915309447)\n",
      "Epoch 39 : (Loss : 0.6297366921574531, Correctness : 0.6563517915309447)\n",
      "Epoch 40 : (Loss : 0.6291069511629178, Correctness : 0.6563517915309447)\n",
      "Epoch 41 : (Loss : 0.6284811143533674, Correctness : 0.6563517915309447)\n",
      "Epoch 42 : (Loss : 0.6278591497479509, Correctness : 0.6563517915309447)\n",
      "Epoch 43 : (Loss : 0.6272410256576447, Correctness : 0.6563517915309447)\n",
      "Epoch 44 : (Loss : 0.626626710674329, Correctness : 0.6563517915309447)\n",
      "Epoch 45 : (Loss : 0.6260161736633553, Correctness : 0.6563517915309447)\n",
      "Epoch 46 : (Loss : 0.6254093837583354, Correctness : 0.6563517915309447)\n",
      "Epoch 47 : (Loss : 0.6248063103573328, Correctness : 0.6563517915309447)\n",
      "Epoch 48 : (Loss : 0.6242069231199365, Correctness : 0.6563517915309447)\n",
      "Epoch 49 : (Loss : 0.6236111919648836, Correctness : 0.6563517915309447)\n",
      "Epoch 50 : (Loss : 0.6230190870680208, Correctness : 0.6563517915309447)\n",
      "Epoch 51 : (Loss : 0.6224305788604685, Correctness : 0.6563517915309447)\n",
      "Epoch 52 : (Loss : 0.6218456380269061, Correctness : 0.6563517915309447)\n",
      "Epoch 53 : (Loss : 0.6212642355039236, Correctness : 0.6563517915309447)\n",
      "Epoch 54 : (Loss : 0.6206863424784094, Correctness : 0.6563517915309447)\n",
      "Epoch 55 : (Loss : 0.6201119303859532, Correctness : 0.6563517915309447)\n",
      "Epoch 56 : (Loss : 0.6195409709092531, Correctness : 0.6563517915309447)\n",
      "Epoch 57 : (Loss : 0.6189734359765197, Correctness : 0.6563517915309447)\n",
      "Epoch 58 : (Loss : 0.618409297759875, Correctness : 0.6563517915309447)\n",
      "Epoch 59 : (Loss : 0.6178485286737427, Correctness : 0.6563517915309447)\n",
      "Epoch 60 : (Loss : 0.6172911013732317, Correctness : 0.6563517915309447)\n",
      "Epoch 61 : (Loss : 0.6167369887525095, Correctness : 0.6563517915309447)\n",
      "Epoch 62 : (Loss : 0.6161861639431694, Correctness : 0.6563517915309447)\n",
      "Epoch 63 : (Loss : 0.6156386003125917, Correctness : 0.6563517915309447)\n",
      "Epoch 64 : (Loss : 0.6150942714622964, Correctness : 0.6563517915309447)\n",
      "Epoch 65 : (Loss : 0.614553151226293, Correctness : 0.6563517915309447)\n",
      "Epoch 66 : (Loss : 0.6140152136694244, Correctness : 0.6563517915309447)\n",
      "Epoch 67 : (Loss : 0.6134804330857072, Correctness : 0.6563517915309447)\n",
      "Epoch 68 : (Loss : 0.6129487839966696, Correctness : 0.6563517915309447)\n",
      "Epoch 69 : (Loss : 0.6124202411496861, Correctness : 0.6563517915309447)\n",
      "Epoch 70 : (Loss : 0.6118947795163102, Correctness : 0.6563517915309447)\n",
      "Epoch 71 : (Loss : 0.6113723742906073, Correctness : 0.6563517915309447)\n",
      "Epoch 72 : (Loss : 0.610853000887485, Correctness : 0.6563517915309447)\n",
      "Epoch 73 : (Loss : 0.6103366349410243, Correctness : 0.6563517915309447)\n",
      "Epoch 74 : (Loss : 0.6098232523028113, Correctness : 0.6563517915309447)\n",
      "Epoch 75 : (Loss : 0.609312829040269, Correctness : 0.6563517915309447)\n",
      "Epoch 76 : (Loss : 0.6088053414349903, Correctness : 0.6563517915309447)\n",
      "Epoch 77 : (Loss : 0.6083007659810729, Correctness : 0.6579804560260587)\n",
      "Epoch 78 : (Loss : 0.607799079383456, Correctness : 0.6579804560260587)\n",
      "Epoch 79 : (Loss : 0.6073002585562605, Correctness : 0.6596091205211727)\n",
      "Epoch 80 : (Loss : 0.6068042806211292, Correctness : 0.6596091205211727)\n",
      "Epoch 81 : (Loss : 0.6063111229055727, Correctness : 0.6596091205211727)\n",
      "Epoch 82 : (Loss : 0.6058207629413179, Correctness : 0.6596091205211727)\n",
      "Epoch 83 : (Loss : 0.6053331784626603, Correctness : 0.6596091205211727)\n",
      "Epoch 84 : (Loss : 0.604848347404819, Correctness : 0.6596091205211727)\n",
      "Epoch 85 : (Loss : 0.6043662479022989, Correctness : 0.6596091205211727)\n",
      "Epoch 86 : (Loss : 0.6038868582872543, Correctness : 0.6596091205211727)\n",
      "Epoch 87 : (Loss : 0.6034101570878598, Correctness : 0.6596091205211727)\n",
      "Epoch 88 : (Loss : 0.6029361230266855, Correctness : 0.6612377850162867)\n",
      "Epoch 89 : (Loss : 0.602464735019077, Correctness : 0.6628664495114007)\n",
      "Epoch 90 : (Loss : 0.6019959721715424, Correctness : 0.6628664495114007)\n",
      "Epoch 91 : (Loss : 0.6015298137801439, Correctness : 0.6628664495114007)\n",
      "Epoch 92 : (Loss : 0.6010662393288966, Correctness : 0.6628664495114007)\n",
      "Epoch 93 : (Loss : 0.6006052284881729, Correctness : 0.6644951140065147)\n",
      "Epoch 94 : (Loss : 0.6001467611131134, Correctness : 0.6644951140065147)\n",
      "Epoch 95 : (Loss : 0.5996908172420456, Correctness : 0.6644951140065147)\n",
      "Epoch 96 : (Loss : 0.599237377094908, Correctness : 0.6644951140065147)\n",
      "Epoch 97 : (Loss : 0.5987864210716827, Correctness : 0.6628664495114007)\n",
      "Epoch 98 : (Loss : 0.5983379297508343, Correctness : 0.6628664495114007)\n",
      "Epoch 99 : (Loss : 0.5978918838877569, Correctness : 0.6612377850162867)\n",
      "Epoch 100 : (Loss : 0.5974482644132288, Correctness : 0.6612377850162867)\n",
      "Epoch 101 : (Loss : 0.5970070524318742, Correctness : 0.6612377850162867)\n",
      "Epoch 102 : (Loss : 0.5965682292206335, Correctness : 0.6612377850162867)\n",
      "Epoch 103 : (Loss : 0.5961317762272417, Correctness : 0.6612377850162867)\n",
      "Epoch 104 : (Loss : 0.5956976750687151, Correctness : 0.6612377850162867)\n",
      "Epoch 105 : (Loss : 0.5952659075298453, Correctness : 0.6628664495114007)\n",
      "Epoch 106 : (Loss : 0.594836455561703, Correctness : 0.6628664495114007)\n",
      "Epoch 107 : (Loss : 0.5944093012801499, Correctness : 0.6628664495114007)\n",
      "Epoch 108 : (Loss : 0.5939844269643588, Correctness : 0.6628664495114007)\n",
      "Epoch 109 : (Loss : 0.5935618150553429, Correctness : 0.6628664495114007)\n",
      "Epoch 110 : (Loss : 0.5931414481544944, Correctness : 0.6628664495114007)\n",
      "Epoch 111 : (Loss : 0.592723309022131, Correctness : 0.6628664495114007)\n",
      "Epoch 112 : (Loss : 0.5923073805760526, Correctness : 0.6644951140065147)\n",
      "Epoch 113 : (Loss : 0.5918936458901061, Correctness : 0.6661237785016287)\n",
      "Epoch 114 : (Loss : 0.5914820881927606, Correctness : 0.6661237785016287)\n",
      "Epoch 115 : (Loss : 0.5910726908656907, Correctness : 0.6677524429967427)\n",
      "Epoch 116 : (Loss : 0.5906654374423695, Correctness : 0.6677524429967427)\n",
      "Epoch 117 : (Loss : 0.5902603116066718, Correctness : 0.6661237785016287)\n",
      "Epoch 118 : (Loss : 0.5898572971914856, Correctness : 0.6661237785016287)\n",
      "Epoch 119 : (Loss : 0.5894563781773339, Correctness : 0.6661237785016287)\n",
      "Epoch 120 : (Loss : 0.5890575386910057, Correctness : 0.6710097719869708)\n",
      "Epoch 121 : (Loss : 0.5886607630041968, Correctness : 0.6710097719869708)\n",
      "Epoch 122 : (Loss : 0.5882660355321603, Correctness : 0.6726384364820848)\n",
      "Epoch 123 : (Loss : 0.5878733408323661, Correctness : 0.6742671009771988)\n",
      "Epoch 124 : (Loss : 0.5874826636031717, Correctness : 0.6758957654723128)\n",
      "Epoch 125 : (Loss : 0.5870939886825006, Correctness : 0.6758957654723128)\n",
      "Epoch 126 : (Loss : 0.586707301046532, Correctness : 0.6758957654723128)\n",
      "Epoch 127 : (Loss : 0.5863225858084006, Correctness : 0.6758957654723128)\n",
      "Epoch 128 : (Loss : 0.5859398282169037, Correctness : 0.6758957654723128)\n",
      "Epoch 129 : (Loss : 0.5855590136552227, Correctness : 0.6791530944625408)\n",
      "Epoch 130 : (Loss : 0.585180127639648, Correctness : 0.6775244299674268)\n",
      "Epoch 131 : (Loss : 0.5848031558183205, Correctness : 0.6775244299674268)\n",
      "Epoch 132 : (Loss : 0.5844280839699783, Correctness : 0.6807817589576548)\n",
      "Epoch 133 : (Loss : 0.5840548980027148, Correctness : 0.6807817589576548)\n",
      "Epoch 134 : (Loss : 0.5836835839527471, Correctness : 0.6807817589576548)\n",
      "Epoch 135 : (Loss : 0.5833141279831928, Correctness : 0.6807817589576548)\n",
      "Epoch 136 : (Loss : 0.5829465163828589, Correctness : 0.6824104234527688)\n",
      "Epoch 137 : (Loss : 0.5825807355650376, Correctness : 0.6840390879478828)\n",
      "Epoch 138 : (Loss : 0.5822167720663151, Correctness : 0.6824104234527688)\n",
      "Epoch 139 : (Loss : 0.5818546125453865, Correctness : 0.6840390879478828)\n",
      "Epoch 140 : (Loss : 0.5814942437818852, Correctness : 0.6840390879478828)\n",
      "Epoch 141 : (Loss : 0.5811356526752169, Correctness : 0.6840390879478828)\n",
      "Epoch 142 : (Loss : 0.5807788262434073, Correctness : 0.6840390879478828)\n",
      "Epoch 143 : (Loss : 0.5804237516219576, Correctness : 0.6840390879478828)\n",
      "Epoch 144 : (Loss : 0.5800704160627101, Correctness : 0.6856677524429968)\n",
      "Epoch 145 : (Loss : 0.5797188069327239, Correctness : 0.6872964169381108)\n",
      "Epoch 146 : (Loss : 0.5793689117131595, Correctness : 0.6856677524429968)\n",
      "Epoch 147 : (Loss : 0.5790207179981732, Correctness : 0.6872964169381108)\n",
      "Epoch 148 : (Loss : 0.5786742134938216, Correctness : 0.6889250814332247)\n",
      "Epoch 149 : (Loss : 0.5783293860169756, Correctness : 0.6905537459283387)\n",
      "Epoch 150 : (Loss : 0.5779862234942423, Correctness : 0.6921824104234527)\n",
      "Epoch 151 : (Loss : 0.5776447139608996, Correctness : 0.6921824104234527)\n",
      "Epoch 152 : (Loss : 0.5773048455598362, Correctness : 0.6954397394136808)\n",
      "Epoch 153 : (Loss : 0.5769666065405046, Correctness : 0.6970684039087948)\n",
      "Epoch 154 : (Loss : 0.5766299852578817, Correctness : 0.6970684039087948)\n",
      "Epoch 155 : (Loss : 0.576294970171438, Correctness : 0.6970684039087948)\n"
     ]
    },
    {
     "name": "stdout",
     "output_type": "stream",
     "text": [
      "Epoch 156 : (Loss : 0.5759615498441184, Correctness : 0.6970684039087948)\n",
      "Epoch 157 : (Loss : 0.5756297129413295, Correctness : 0.6970684039087948)\n",
      "Epoch 158 : (Loss : 0.575299448229939, Correctness : 0.6954397394136808)\n",
      "Epoch 159 : (Loss : 0.5749707445772805, Correctness : 0.6954397394136808)\n",
      "Epoch 160 : (Loss : 0.5746435909501718, Correctness : 0.6938110749185668)\n",
      "Epoch 161 : (Loss : 0.5743179764139386, Correctness : 0.6938110749185668)\n",
      "Epoch 162 : (Loss : 0.5739938901314489, Correctness : 0.6938110749185668)\n",
      "Epoch 163 : (Loss : 0.5736713213621558, Correctness : 0.6938110749185668)\n",
      "Epoch 164 : (Loss : 0.5733502594611501, Correctness : 0.6938110749185668)\n",
      "Epoch 165 : (Loss : 0.5730306938782203, Correctness : 0.6938110749185668)\n",
      "Epoch 166 : (Loss : 0.572712614156922, Correctness : 0.6938110749185668)\n",
      "Epoch 167 : (Loss : 0.5723960099336569, Correctness : 0.6938110749185668)\n",
      "Epoch 168 : (Loss : 0.5720808709367592, Correctness : 0.6921824104234527)\n",
      "Epoch 169 : (Loss : 0.5717671869855909, Correctness : 0.6921824104234527)\n",
      "Epoch 170 : (Loss : 0.5714549479896467, Correctness : 0.6905537459283387)\n",
      "Epoch 171 : (Loss : 0.5711441439476657, Correctness : 0.6905537459283387)\n",
      "Epoch 172 : (Loss : 0.5708347649467529, Correctness : 0.6905537459283387)\n",
      "Epoch 173 : (Loss : 0.570526801161509, Correctness : 0.6905537459283387)\n",
      "Epoch 174 : (Loss : 0.5702202428531676, Correctness : 0.6905537459283387)\n",
      "Epoch 175 : (Loss : 0.5699150803687413, Correctness : 0.6970684039087948)\n",
      "Epoch 176 : (Loss : 0.5696113041401765, Correctness : 0.6986970684039088)\n",
      "Epoch 177 : (Loss : 0.5693089046835156, Correctness : 0.6986970684039088)\n",
      "Epoch 178 : (Loss : 0.5690078725980675, Correctness : 0.6986970684039088)\n",
      "Epoch 179 : (Loss : 0.5687081985655866, Correctness : 0.6986970684039088)\n",
      "Epoch 180 : (Loss : 0.5684098733494588, Correctness : 0.6986970684039088)\n",
      "Epoch 181 : (Loss : 0.568112887793897, Correctness : 0.6986970684039088)\n",
      "Epoch 182 : (Loss : 0.5678172328231424, Correctness : 0.6986970684039088)\n",
      "Epoch 183 : (Loss : 0.5675228994406758, Correctness : 0.6986970684039088)\n",
      "Epoch 184 : (Loss : 0.5672298787284352, Correctness : 0.7003257328990228)\n",
      "Epoch 185 : (Loss : 0.5669381618460411, Correctness : 0.7003257328990228)\n",
      "Epoch 186 : (Loss : 0.5666477400300306, Correctness : 0.7003257328990228)\n",
      "Epoch 187 : (Loss : 0.5663586045930981, Correctness : 0.7003257328990228)\n",
      "Epoch 188 : (Loss : 0.5660707469233431, Correctness : 0.7003257328990228)\n",
      "Epoch 189 : (Loss : 0.565784158483527, Correctness : 0.7003257328990228)\n",
      "Epoch 190 : (Loss : 0.5654988308103359, Correctness : 0.7019543973941368)\n",
      "Epoch 191 : (Loss : 0.5652147555136515, Correctness : 0.7035830618892508)\n",
      "Epoch 192 : (Loss : 0.5649319242758285, Correctness : 0.7035830618892508)\n",
      "Epoch 193 : (Loss : 0.5646503288509804, Correctness : 0.7035830618892508)\n",
      "Epoch 194 : (Loss : 0.5643699610642712, Correctness : 0.7035830618892508)\n",
      "Epoch 195 : (Loss : 0.5640908128112151, Correctness : 0.7035830618892508)\n",
      "Epoch 196 : (Loss : 0.5638128760569827, Correctness : 0.7035830618892508)\n",
      "Epoch 197 : (Loss : 0.5635361428357147, Correctness : 0.7052117263843648)\n",
      "Epoch 198 : (Loss : 0.563260605249842, Correctness : 0.7052117263843648)\n",
      "Epoch 199 : (Loss : 0.5629862554694125, Correctness : 0.7052117263843648)\n",
      "Epoch 200 : (Loss : 0.5627130857314259, Correctness : 0.7068403908794788)\n",
      "Final test accuracy: 101.0/154 (65.58441558441558 %)\n"
     ]
    }
   ],
   "source": [
    "d = model(train_data,train_labels, test_data, test_labels, num_epochs = 200, learning_rate = 0.4)"
   ]
  },
  {
   "cell_type": "markdown",
   "metadata": {},
   "source": [
    "## Plots"
   ]
  },
  {
   "cell_type": "code",
   "execution_count": 20,
   "metadata": {},
   "outputs": [
    {
     "data": {
      "image/png": "[encoded data removed]",
      "text/plain": [
       "<Figure size 432x288 with 1 Axes>"
      ]
     },
     "metadata": {
      "needs_background": "light"
     },
     "output_type": "display_data"
    }
   ],
   "source": [
    "import matplotlib.pyplot as plt\n",
    "plt.plot(d[\"costs\"]);\n",
    "plt.xlabel(\"Epochs\")\n",
    "plt.ylabel(\"Cost\");\n",
    "plt.title(\"Cost over various Epochs\");"
   ]
  },
  {
   "cell_type": "code",
   "execution_count": 21,
   "metadata": {},
   "outputs": [
    {
     "data": {
      "image/png": "[encoded data removed]",
      "text/plain": [
       "<Figure size 432x288 with 1 Axes>"
      ]
     },
     "metadata": {
      "needs_background": "light"
     },
     "output_type": "display_data"
    }
   ],
   "source": [
    "plt.plot(d[\"accuracies\"]);\n",
    "plt.xlabel(\"Epochs\")\n",
    "plt.title(\"Accuracy over various Epochs\")\n",
    "plt.ylabel(\"Accuracy\");"
   ]
  },
  {
   "cell_type": "code",
   "execution_count": null,
   "metadata": {},
   "outputs": [],
   "source": []
  },
  {
   "cell_type": "code",
   "execution_count": null,
   "metadata": {},
   "outputs": [],
   "source": []
  }
 ],
 "metadata": {
  "kernelspec": {
   "display_name": "Python 3",
   "language": "python",
   "name": "python3"
  },
  "language_info": {
   "codemirror_mode": {
    "name": "ipython",
    "version": 3
   },
   "file_extension": ".py",
   "mimetype": "text/x-python",
   "name": "python",
   "nbconvert_exporter": "python",
   "pygments_lexer": "ipython3",
   "version": "3.8.2"
  }
 },
 "nbformat": 4,
 "nbformat_minor": 4
}
