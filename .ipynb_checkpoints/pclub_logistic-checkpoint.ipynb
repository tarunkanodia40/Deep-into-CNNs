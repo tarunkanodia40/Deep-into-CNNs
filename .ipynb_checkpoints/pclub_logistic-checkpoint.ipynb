{
 "cells": [
  {
   "cell_type": "code",
   "execution_count": 1,
   "metadata": {},
   "outputs": [],
   "source": [
    "import numpy as np\n",
    "import pandas as pd"
   ]
  },
  {
   "cell_type": "code",
   "execution_count": 2,
   "metadata": {},
   "outputs": [
    {
     "data": {
      "text/html": [
       "<div>\n",
       "<style scoped>\n",
       "    .dataframe tbody tr th:only-of-type {\n",
       "        vertical-align: middle;\n",
       "    }\n",
       "\n",
       "    .dataframe tbody tr th {\n",
       "        vertical-align: top;\n",
       "    }\n",
       "\n",
       "    .dataframe thead th {\n",
       "        text-align: right;\n",
       "    }\n",
       "</style>\n",
       "<table border=\"1\" class=\"dataframe\">\n",
       "  <thead>\n",
       "    <tr style=\"text-align: right;\">\n",
       "      <th></th>\n",
       "      <th>Pregnancies</th>\n",
       "      <th>Glucose</th>\n",
       "      <th>BloodPressure</th>\n",
       "      <th>SkinThickness</th>\n",
       "      <th>Insulin</th>\n",
       "      <th>BMI</th>\n",
       "      <th>DiabetesPedigreeFunction</th>\n",
       "      <th>Age</th>\n",
       "      <th>Outcome</th>\n",
       "    </tr>\n",
       "  </thead>\n",
       "  <tbody>\n",
       "    <tr>\n",
       "      <th>0</th>\n",
       "      <td>6</td>\n",
       "      <td>148</td>\n",
       "      <td>72</td>\n",
       "      <td>35</td>\n",
       "      <td>0</td>\n",
       "      <td>33.6</td>\n",
       "      <td>0.627</td>\n",
       "      <td>50</td>\n",
       "      <td>1</td>\n",
       "    </tr>\n",
       "    <tr>\n",
       "      <th>1</th>\n",
       "      <td>1</td>\n",
       "      <td>85</td>\n",
       "      <td>66</td>\n",
       "      <td>29</td>\n",
       "      <td>0</td>\n",
       "      <td>26.6</td>\n",
       "      <td>0.351</td>\n",
       "      <td>31</td>\n",
       "      <td>0</td>\n",
       "    </tr>\n",
       "    <tr>\n",
       "      <th>2</th>\n",
       "      <td>8</td>\n",
       "      <td>183</td>\n",
       "      <td>64</td>\n",
       "      <td>0</td>\n",
       "      <td>0</td>\n",
       "      <td>23.3</td>\n",
       "      <td>0.672</td>\n",
       "      <td>32</td>\n",
       "      <td>1</td>\n",
       "    </tr>\n",
       "    <tr>\n",
       "      <th>3</th>\n",
       "      <td>1</td>\n",
       "      <td>89</td>\n",
       "      <td>66</td>\n",
       "      <td>23</td>\n",
       "      <td>94</td>\n",
       "      <td>28.1</td>\n",
       "      <td>0.167</td>\n",
       "      <td>21</td>\n",
       "      <td>0</td>\n",
       "    </tr>\n",
       "    <tr>\n",
       "      <th>4</th>\n",
       "      <td>0</td>\n",
       "      <td>137</td>\n",
       "      <td>40</td>\n",
       "      <td>35</td>\n",
       "      <td>168</td>\n",
       "      <td>43.1</td>\n",
       "      <td>2.288</td>\n",
       "      <td>33</td>\n",
       "      <td>1</td>\n",
       "    </tr>\n",
       "    <tr>\n",
       "      <th>...</th>\n",
       "      <td>...</td>\n",
       "      <td>...</td>\n",
       "      <td>...</td>\n",
       "      <td>...</td>\n",
       "      <td>...</td>\n",
       "      <td>...</td>\n",
       "      <td>...</td>\n",
       "      <td>...</td>\n",
       "      <td>...</td>\n",
       "    </tr>\n",
       "    <tr>\n",
       "      <th>763</th>\n",
       "      <td>10</td>\n",
       "      <td>101</td>\n",
       "      <td>76</td>\n",
       "      <td>48</td>\n",
       "      <td>180</td>\n",
       "      <td>32.9</td>\n",
       "      <td>0.171</td>\n",
       "      <td>63</td>\n",
       "      <td>0</td>\n",
       "    </tr>\n",
       "    <tr>\n",
       "      <th>764</th>\n",
       "      <td>2</td>\n",
       "      <td>122</td>\n",
       "      <td>70</td>\n",
       "      <td>27</td>\n",
       "      <td>0</td>\n",
       "      <td>36.8</td>\n",
       "      <td>0.340</td>\n",
       "      <td>27</td>\n",
       "      <td>0</td>\n",
       "    </tr>\n",
       "    <tr>\n",
       "      <th>765</th>\n",
       "      <td>5</td>\n",
       "      <td>121</td>\n",
       "      <td>72</td>\n",
       "      <td>23</td>\n",
       "      <td>112</td>\n",
       "      <td>26.2</td>\n",
       "      <td>0.245</td>\n",
       "      <td>30</td>\n",
       "      <td>0</td>\n",
       "    </tr>\n",
       "    <tr>\n",
       "      <th>766</th>\n",
       "      <td>1</td>\n",
       "      <td>126</td>\n",
       "      <td>60</td>\n",
       "      <td>0</td>\n",
       "      <td>0</td>\n",
       "      <td>30.1</td>\n",
       "      <td>0.349</td>\n",
       "      <td>47</td>\n",
       "      <td>1</td>\n",
       "    </tr>\n",
       "    <tr>\n",
       "      <th>767</th>\n",
       "      <td>1</td>\n",
       "      <td>93</td>\n",
       "      <td>70</td>\n",
       "      <td>31</td>\n",
       "      <td>0</td>\n",
       "      <td>30.4</td>\n",
       "      <td>0.315</td>\n",
       "      <td>23</td>\n",
       "      <td>0</td>\n",
       "    </tr>\n",
       "  </tbody>\n",
       "</table>\n",
       "<p>768 rows × 9 columns</p>\n",
       "</div>"
      ],
      "text/plain": [
       "     Pregnancies  Glucose  BloodPressure  SkinThickness  Insulin   BMI  \\\n",
       "0              6      148             72             35        0  33.6   \n",
       "1              1       85             66             29        0  26.6   \n",
       "2              8      183             64              0        0  23.3   \n",
       "3              1       89             66             23       94  28.1   \n",
       "4              0      137             40             35      168  43.1   \n",
       "..           ...      ...            ...            ...      ...   ...   \n",
       "763           10      101             76             48      180  32.9   \n",
       "764            2      122             70             27        0  36.8   \n",
       "765            5      121             72             23      112  26.2   \n",
       "766            1      126             60              0        0  30.1   \n",
       "767            1       93             70             31        0  30.4   \n",
       "\n",
       "     DiabetesPedigreeFunction  Age  Outcome  \n",
       "0                       0.627   50        1  \n",
       "1                       0.351   31        0  \n",
       "2                       0.672   32        1  \n",
       "3                       0.167   21        0  \n",
       "4                       2.288   33        1  \n",
       "..                        ...  ...      ...  \n",
       "763                     0.171   63        0  \n",
       "764                     0.340   27        0  \n",
       "765                     0.245   30        0  \n",
       "766                     0.349   47        1  \n",
       "767                     0.315   23        0  \n",
       "\n",
       "[768 rows x 9 columns]"
      ]
     },
     "execution_count": 2,
     "metadata": {},
     "output_type": "execute_result"
    }
   ],
   "source": [
    "data = pd.read_csv(\"data/diabetes2.csv\")\n",
    "data"
   ]
  },
  {
   "cell_type": "code",
   "execution_count": 3,
   "metadata": {},
   "outputs": [],
   "source": [
    "labels = data[\"Outcome\"]\n",
    "labels = np.array(labels,dtype=int)"
   ]
  },
  {
   "cell_type": "code",
   "execution_count": 4,
   "metadata": {},
   "outputs": [],
   "source": [
    "data=data.drop(\"Outcome\",axis=1)"
   ]
  },
  {
   "cell_type": "code",
   "execution_count": 5,
   "metadata": {},
   "outputs": [],
   "source": [
    "from sklearn import preprocessing\n",
    "min_max_scaler = preprocessing.MinMaxScaler()\n",
    "data = pd.DataFrame(min_max_scaler.fit_transform(data), columns=data.columns, index=data.index)"
   ]
  },
  {
   "cell_type": "code",
   "execution_count": 6,
   "metadata": {},
   "outputs": [
    {
     "data": {
      "text/plain": [
       "array([[0.35294118, 0.74371859, 0.59016393, ..., 0.50074516, 0.23441503,\n",
       "        0.48333333],\n",
       "       [0.05882353, 0.42713568, 0.54098361, ..., 0.39642325, 0.11656704,\n",
       "        0.16666667],\n",
       "       [0.47058824, 0.91959799, 0.52459016, ..., 0.34724292, 0.25362938,\n",
       "        0.18333333],\n",
       "       ...,\n",
       "       [0.29411765, 0.6080402 , 0.59016393, ..., 0.390462  , 0.07130658,\n",
       "        0.15      ],\n",
       "       [0.05882353, 0.63316583, 0.49180328, ..., 0.4485842 , 0.11571307,\n",
       "        0.43333333],\n",
       "       [0.05882353, 0.46733668, 0.57377049, ..., 0.45305514, 0.10119556,\n",
       "        0.03333333]])"
      ]
     },
     "execution_count": 6,
     "metadata": {},
     "output_type": "execute_result"
    }
   ],
   "source": [
    " data=data.to_numpy()\n",
    "data"
   ]
  },
  {
   "cell_type": "code",
   "execution_count": 7,
   "metadata": {},
   "outputs": [],
   "source": [
    "from sklearn.model_selection import train_test_split"
   ]
  },
  {
   "cell_type": "code",
   "execution_count": 8,
   "metadata": {},
   "outputs": [],
   "source": [
    "labels=labels.reshape(labels.shape[0],1)"
   ]
  },
  {
   "cell_type": "code",
   "execution_count": 9,
   "metadata": {},
   "outputs": [],
   "source": [
    "train_data,test_data,train_labels,test_labels = train_test_split(data,labels,test_size=0.2)"
   ]
  },
  {
   "cell_type": "code",
   "execution_count": 10,
   "metadata": {},
   "outputs": [
    {
     "data": {
      "text/plain": [
       "((614, 8), (154, 8), (614, 1), (154, 1))"
      ]
     },
     "execution_count": 10,
     "metadata": {},
     "output_type": "execute_result"
    }
   ],
   "source": [
    "train_data.shape,test_data.shape,train_labels.shape,test_labels.shape"
   ]
  },
  {
   "cell_type": "code",
   "execution_count": 11,
   "metadata": {},
   "outputs": [],
   "source": [
    "m_train=train_data.shape[0]\n",
    "m_test=test_data.shape[0]"
   ]
  },
  {
   "cell_type": "code",
   "execution_count": 12,
   "metadata": {},
   "outputs": [],
   "source": [
    "train_data,test_data,train_labels,test_labels=train_data.T,test_data.T,train_labels.T,test_labels.T\n"
   ]
  },
  {
   "cell_type": "code",
   "execution_count": 13,
   "metadata": {},
   "outputs": [],
   "source": [
    "def sigmoid(z):\n",
    "    s=1/(1+np.exp(-z))\n",
    "    return s"
   ]
  },
  {
   "cell_type": "code",
   "execution_count": 14,
   "metadata": {},
   "outputs": [],
   "source": [
    "def initialize_with_zeros(dim):\n",
    "    w = np.zeros(shape=(dim, 1))\n",
    "    b = 0\n",
    "\n",
    "    assert(w.shape == (dim, 1))\n",
    "    assert(isinstance(b, float) or isinstance(b, int))\n",
    "    \n",
    "    return w, b"
   ]
  },
  {
   "cell_type": "code",
   "execution_count": 15,
   "metadata": {},
   "outputs": [],
   "source": [
    "def forward_and_backward_propogation(w,b,X,Y):\n",
    "    m = X.shape[1]\n",
    "    #Forward Proppgation\n",
    "    A = sigmoid( w.T @ X + b )                                   \n",
    "    cost = -1 / m * np.sum(Y * np.log(A) + (1-Y) * np.log(1-A)) \n",
    "    \n",
    "    # BACKWARD PROPAGATION\n",
    "    dw = 1/m * X @ (A - Y).T\n",
    "    db = 1/m * np.sum(A - Y)\n",
    "    \n",
    "    cost = np.squeeze(cost)\n",
    "    assert(cost.shape == ())\n",
    "    \n",
    "    grads = {\"dw\": dw,\n",
    "             \"db\": db}\n",
    "    \n",
    "    return grads, cost\n",
    "    "
   ]
  },
  {
   "cell_type": "code",
   "execution_count": 16,
   "metadata": {},
   "outputs": [],
   "source": [
    "def predict(w, b, X):\n",
    "    \n",
    "    \n",
    "    m = X.shape[1]\n",
    "    Y_prediction = np.zeros((1,m))\n",
    "    w = w.reshape(X.shape[0], 1)\n",
    "    \n",
    "    \n",
    "    A = sigmoid(w.T @ X + b) \n",
    "    \n",
    "    for i in range(A.shape[1]):\n",
    "        Y_prediction[:, i] = (A[:, i] > 0.5) * 1\n",
    "    \n",
    "    assert(Y_prediction.shape == (1, m))\n",
    "    \n",
    "    return Y_prediction"
   ]
  },
  {
   "cell_type": "code",
   "execution_count": 18,
   "metadata": {},
   "outputs": [],
   "source": [
    "def optimizer(w,b,X,Y,num_epochs,learning_rate):\n",
    "    costs=[]\n",
    "    accuracies = []\n",
    "    \n",
    "    for i in range(num_epochs):\n",
    "        gradients,cost = forward_and_backward_propogation(w,b,X,Y)\n",
    "        \n",
    "        dw = gradients[\"dw\"]\n",
    "        db = gradients[\"db\"]\n",
    "        \n",
    "        w = w - learning_rate * dw\n",
    "        b = b - learning_rate * db\n",
    "        costs.append(cost)\n",
    "        \n",
    "        \n",
    "        Y_prediction = predict(w - learning_rate * dw,b - learning_rate * db,X)\n",
    "        accuracy = 1 - np.mean(np.abs(Y_prediction - Y))\n",
    "        accuracies.append(accuracy)\n",
    "        print(\"Epoch {} : (Loss : {}, Correctness : {})\".format(i+1,cost,accuracy))\n",
    "        \n",
    "    params = {\"w\":w,\n",
    "            \"b\":b}\n",
    "    gradients = {\"dw\":dw,\n",
    "                \"db\":db}\n",
    "    return params,gradients,costs,accuracies"
   ]
  },
  {
   "cell_type": "code",
   "execution_count": 19,
   "metadata": {},
   "outputs": [],
   "source": [
    "\n",
    "def model(X_train, Y_train, X_test, Y_test, num_epochs = 2000, learning_rate = 0.5):\n",
    "   \n",
    "    \n",
    "    w, b = initialize_with_zeros(X_train.shape[0])\n",
    "\n",
    "    \n",
    "    parameters, grads, costs, accuracies = optimizer(w, b, X_train, Y_train, num_epochs, learning_rate)\n",
    "    \n",
    "\n",
    "    w = parameters[\"w\"]\n",
    "    b = parameters[\"b\"]\n",
    "    \n",
    "    \n",
    "    d = {\"costs\": costs,\n",
    "         \"accuracies\": accuracies,\n",
    "         \"Y_prediction_test\": Y_prediction_test, \n",
    "         \"Y_prediction_train\" : Y_prediction_train, \n",
    "         \"w\" : w, \n",
    "         \"b\" : b,\n",
    "         \"learning_rate\" : learning_rate,\n",
    "         \"num_epochs\": num_epochs}\n",
    "    \n",
    "    return d"
   ]
  },
  {
   "cell_type": "code",
   "execution_count": 20,
   "metadata": {
    "scrolled": false
   },
   "outputs": [
    {
     "name": "stdout",
     "output_type": "stream",
     "text": [
      "Epoch 1 : (Loss : 0.6931471805599454, Correctness : 0.6579804560260587)\n",
      "Epoch 2 : (Loss : 0.6754309018053546, Correctness : 0.6579804560260587)\n",
      "Epoch 3 : (Loss : 0.6653689496909561, Correctness : 0.6579804560260587)\n",
      "Epoch 4 : (Loss : 0.6594246757980393, Correctness : 0.6579804560260587)\n",
      "Epoch 5 : (Loss : 0.6557077337734559, Correctness : 0.6579804560260587)\n",
      "Epoch 6 : (Loss : 0.6532073410116528, Correctness : 0.6579804560260587)\n",
      "Epoch 7 : (Loss : 0.6513788240865989, Correctness : 0.6579804560260587)\n",
      "Epoch 8 : (Loss : 0.6499258353940259, Correctness : 0.6579804560260587)\n",
      "Epoch 9 : (Loss : 0.648685638249365, Correctness : 0.6579804560260587)\n",
      "Epoch 10 : (Loss : 0.6475681430358606, Correctness : 0.6579804560260587)\n",
      "Epoch 11 : (Loss : 0.6465231379324513, Correctness : 0.6579804560260587)\n",
      "Epoch 12 : (Loss : 0.6455224778677583, Correctness : 0.6579804560260587)\n",
      "Epoch 13 : (Loss : 0.6445503085785206, Correctness : 0.6579804560260587)\n",
      "Epoch 14 : (Loss : 0.6435976570276453, Correctness : 0.6579804560260587)\n",
      "Epoch 15 : (Loss : 0.642659418281465, Correctness : 0.6579804560260587)\n",
      "Epoch 16 : (Loss : 0.641732668518274, Correctness : 0.6579804560260587)\n",
      "Epoch 17 : (Loss : 0.6408157167281753, Correctness : 0.6579804560260587)\n",
      "Epoch 18 : (Loss : 0.6399075700200486, Correctness : 0.6579804560260587)\n",
      "Epoch 19 : (Loss : 0.6390076314450842, Correctness : 0.6579804560260587)\n",
      "Epoch 20 : (Loss : 0.6381155289345802, Correctness : 0.6579804560260587)\n",
      "Epoch 21 : (Loss : 0.6372310183430054, Correctness : 0.6579804560260587)\n",
      "Epoch 22 : (Loss : 0.6363539284469321, Correctness : 0.6579804560260587)\n",
      "Epoch 23 : (Loss : 0.6354841297275409, Correctness : 0.6579804560260587)\n",
      "Epoch 24 : (Loss : 0.6346215166470874, Correctness : 0.6579804560260587)\n",
      "Epoch 25 : (Loss : 0.6337659975857104, Correctness : 0.6579804560260587)\n",
      "Epoch 26 : (Loss : 0.6329174891282768, Correctness : 0.6579804560260587)\n",
      "Epoch 27 : (Loss : 0.6320759128216665, Correctness : 0.6579804560260587)\n",
      "Epoch 28 : (Loss : 0.6312411933348763, Correctness : 0.6579804560260587)\n",
      "Epoch 29 : (Loss : 0.6304132574154198, Correctness : 0.6579804560260587)\n",
      "Epoch 30 : (Loss : 0.6295920332974699, Correctness : 0.6579804560260587)\n",
      "Epoch 31 : (Loss : 0.6287774503660469, Correctness : 0.6579804560260587)\n",
      "Epoch 32 : (Loss : 0.6279694389661435, Correctness : 0.6579804560260587)\n",
      "Epoch 33 : (Loss : 0.6271679302937533, Correctness : 0.6579804560260587)\n",
      "Epoch 34 : (Loss : 0.6263728563330611, Correctness : 0.6579804560260587)\n",
      "Epoch 35 : (Loss : 0.6255841498195687, Correctness : 0.6579804560260587)\n",
      "Epoch 36 : (Loss : 0.6248017442177162, Correctness : 0.6579804560260587)\n",
      "Epoch 37 : (Loss : 0.6240255737065514, Correctness : 0.6579804560260587)\n",
      "Epoch 38 : (Loss : 0.6232555731698243, Correctness : 0.6579804560260587)\n",
      "Epoch 39 : (Loss : 0.6224916781884745, Correctness : 0.6579804560260587)\n",
      "Epoch 40 : (Loss : 0.6217338250343833, Correctness : 0.6579804560260587)\n",
      "Epoch 41 : (Loss : 0.6209819506647706, Correctness : 0.6579804560260587)\n",
      "Epoch 42 : (Loss : 0.6202359927168927, Correctness : 0.6579804560260587)\n",
      "Epoch 43 : (Loss : 0.6194958895028629, Correctness : 0.6579804560260587)\n",
      "Epoch 44 : (Loss : 0.6187615800045, Correctness : 0.6579804560260587)\n",
      "Epoch 45 : (Loss : 0.6180330038681565, Correctness : 0.6579804560260587)\n",
      "Epoch 46 : (Loss : 0.6173101013995089, Correctness : 0.6579804560260587)\n",
      "Epoch 47 : (Loss : 0.6165928135582995, Correctness : 0.6579804560260587)\n",
      "Epoch 48 : (Loss : 0.6158810819530323, Correctness : 0.6579804560260587)\n",
      "Epoch 49 : (Loss : 0.6151748488356233, Correctness : 0.6579804560260587)\n",
      "Epoch 50 : (Loss : 0.6144740570960121, Correctness : 0.6579804560260587)\n",
      "Epoch 51 : (Loss : 0.6137786502567367, Correctness : 0.6579804560260587)\n",
      "Epoch 52 : (Loss : 0.6130885724674802, Correctness : 0.6579804560260587)\n",
      "Epoch 53 : (Loss : 0.612403768499588, Correctness : 0.6579804560260587)\n",
      "Epoch 54 : (Loss : 0.6117241837405666, Correctness : 0.6579804560260587)\n",
      "Epoch 55 : (Loss : 0.611049764188561, Correctness : 0.6579804560260587)\n",
      "Epoch 56 : (Loss : 0.6103804564468207, Correctness : 0.6579804560260587)\n",
      "Epoch 57 : (Loss : 0.6097162077181509, Correctness : 0.6579804560260587)\n",
      "Epoch 58 : (Loss : 0.6090569657993585, Correctness : 0.6579804560260587)\n",
      "Epoch 59 : (Loss : 0.608402679075691, Correctness : 0.6596091205211727)\n",
      "Epoch 60 : (Loss : 0.6077532965152717, Correctness : 0.6596091205211727)\n",
      "Epoch 61 : (Loss : 0.6071087676635368, Correctness : 0.6596091205211727)\n",
      "Epoch 62 : (Loss : 0.6064690426376731, Correctness : 0.6596091205211727)\n",
      "Epoch 63 : (Loss : 0.6058340721210596, Correctness : 0.6596091205211727)\n",
      "Epoch 64 : (Loss : 0.6052038073577161, Correctness : 0.6628664495114007)\n",
      "Epoch 65 : (Loss : 0.6045782001467611, Correctness : 0.6628664495114007)\n",
      "Epoch 66 : (Loss : 0.603957202836878, Correctness : 0.6628664495114007)\n",
      "Epoch 67 : (Loss : 0.6033407683207955, Correctness : 0.6628664495114007)\n",
      "Epoch 68 : (Loss : 0.6027288500297802, Correctness : 0.6628664495114007)\n",
      "Epoch 69 : (Loss : 0.6021214019281468, Correctness : 0.6644951140065147)\n",
      "Epoch 70 : (Loss : 0.6015183785077838, Correctness : 0.6628664495114007)\n",
      "Epoch 71 : (Loss : 0.6009197347827, Correctness : 0.6628664495114007)\n",
      "Epoch 72 : (Loss : 0.6003254262835881, Correctness : 0.6628664495114007)\n",
      "Epoch 73 : (Loss : 0.5997354090524145, Correctness : 0.6628664495114007)\n",
      "Epoch 74 : (Loss : 0.5991496396370282, Correctness : 0.6628664495114007)\n",
      "Epoch 75 : (Loss : 0.5985680750857953, Correctness : 0.6644951140065147)\n",
      "Epoch 76 : (Loss : 0.5979906729422607, Correctness : 0.6644951140065147)\n",
      "Epoch 77 : (Loss : 0.597417391239834, Correctness : 0.6644951140065147)\n",
      "Epoch 78 : (Loss : 0.5968481884965043, Correctness : 0.6644951140065147)\n",
      "Epoch 79 : (Loss : 0.5962830237095844, Correctness : 0.6644951140065147)\n",
      "Epoch 80 : (Loss : 0.5957218563504844, Correctness : 0.6644951140065147)\n",
      "Epoch 81 : (Loss : 0.5951646463595149, Correctness : 0.6661237785016287)\n",
      "Epoch 82 : (Loss : 0.5946113541407243, Correctness : 0.6661237785016287)\n",
      "Epoch 83 : (Loss : 0.5940619405567662, Correctness : 0.6677524429967427)\n",
      "Epoch 84 : (Loss : 0.5935163669238019, Correctness : 0.6677524429967427)\n",
      "Epoch 85 : (Loss : 0.5929745950064358, Correctness : 0.6677524429967427)\n",
      "Epoch 86 : (Loss : 0.592436587012686, Correctness : 0.6677524429967427)\n",
      "Epoch 87 : (Loss : 0.5919023055889898, Correctness : 0.6677524429967427)\n",
      "Epoch 88 : (Loss : 0.5913717138152469, Correctness : 0.6677524429967427)\n",
      "Epoch 89 : (Loss : 0.5908447751998964, Correctness : 0.6693811074918568)\n",
      "Epoch 90 : (Loss : 0.5903214536750334, Correctness : 0.6693811074918568)\n",
      "Epoch 91 : (Loss : 0.5898017135915623, Correctness : 0.6710097719869708)\n",
      "Epoch 92 : (Loss : 0.5892855197143875, Correctness : 0.6742671009771988)\n",
      "Epoch 93 : (Loss : 0.588772837217644, Correctness : 0.6758957654723128)\n",
      "Epoch 94 : (Loss : 0.5882636316799654, Correctness : 0.6758957654723128)\n",
      "Epoch 95 : (Loss : 0.5877578690797931, Correctness : 0.6758957654723128)\n",
      "Epoch 96 : (Loss : 0.5872555157907227, Correctness : 0.6791530944625408)\n",
      "Epoch 97 : (Loss : 0.5867565385768916, Correctness : 0.6791530944625408)\n",
      "Epoch 98 : (Loss : 0.5862609045884077, Correctness : 0.6775244299674268)\n",
      "Epoch 99 : (Loss : 0.585768581356816, Correctness : 0.6775244299674268)\n",
      "Epoch 100 : (Loss : 0.5852795367906084, Correctness : 0.6775244299674268)\n",
      "Epoch 101 : (Loss : 0.584793739170772, Correctness : 0.6758957654723128)\n",
      "Epoch 102 : (Loss : 0.5843111571463803, Correctness : 0.6758957654723128)\n",
      "Epoch 103 : (Loss : 0.5838317597302237, Correctness : 0.6791530944625408)\n",
      "Epoch 104 : (Loss : 0.5833555162944826, Correctness : 0.6807817589576548)\n",
      "Epoch 105 : (Loss : 0.5828823965664411, Correctness : 0.6807817589576548)\n",
      "Epoch 106 : (Loss : 0.5824123706242419, Correctness : 0.6807817589576548)\n",
      "Epoch 107 : (Loss : 0.5819454088926826, Correctness : 0.6824104234527688)\n",
      "Epoch 108 : (Loss : 0.5814814821390539, Correctness : 0.6856677524429968)\n",
      "Epoch 109 : (Loss : 0.5810205614690186, Correctness : 0.6856677524429968)\n",
      "Epoch 110 : (Loss : 0.5805626183225321, Correctness : 0.6856677524429968)\n",
      "Epoch 111 : (Loss : 0.5801076244698048, Correctness : 0.6856677524429968)\n",
      "Epoch 112 : (Loss : 0.579655552007304, Correctness : 0.6856677524429968)\n",
      "Epoch 113 : (Loss : 0.5792063733538004, Correctness : 0.6856677524429968)\n",
      "Epoch 114 : (Loss : 0.5787600612464519, Correctness : 0.6856677524429968)\n",
      "Epoch 115 : (Loss : 0.5783165887369308, Correctness : 0.6872964169381108)\n",
      "Epoch 116 : (Loss : 0.5778759291875918, Correctness : 0.6872964169381108)\n",
      "Epoch 117 : (Loss : 0.5774380562676792, Correctness : 0.6872964169381108)\n",
      "Epoch 118 : (Loss : 0.5770029439495775, Correctness : 0.6905537459283387)\n",
      "Epoch 119 : (Loss : 0.5765705665050999, Correctness : 0.6921824104234527)\n",
      "Epoch 120 : (Loss : 0.576140898501818, Correctness : 0.6921824104234527)\n",
      "Epoch 121 : (Loss : 0.5757139147994327, Correctness : 0.6938110749185668)\n",
      "Epoch 122 : (Loss : 0.5752895905461841, Correctness : 0.6938110749185668)\n",
      "Epoch 123 : (Loss : 0.5748679011753008, Correctness : 0.6954397394136808)\n",
      "Epoch 124 : (Loss : 0.5744488224014905, Correctness : 0.6970684039087948)\n",
      "Epoch 125 : (Loss : 0.5740323302174677, Correctness : 0.6954397394136808)\n",
      "Epoch 126 : (Loss : 0.5736184008905226, Correctness : 0.6954397394136808)\n",
      "Epoch 127 : (Loss : 0.5732070109591282, Correctness : 0.6938110749185668)\n",
      "Epoch 128 : (Loss : 0.5727981372295853, Correctness : 0.6938110749185668)\n",
      "Epoch 129 : (Loss : 0.5723917567727079, Correctness : 0.6938110749185668)\n",
      "Epoch 130 : (Loss : 0.5719878469205444, Correctness : 0.6921824104234527)\n",
      "Epoch 131 : (Loss : 0.5715863852631387, Correctness : 0.6938110749185668)\n",
      "Epoch 132 : (Loss : 0.5711873496453284, Correctness : 0.6954397394136808)\n",
      "Epoch 133 : (Loss : 0.5707907181635798, Correctness : 0.6954397394136808)\n",
      "Epoch 134 : (Loss : 0.5703964691628611, Correctness : 0.6954397394136808)\n",
      "Epoch 135 : (Loss : 0.5700045812335518, Correctness : 0.6954397394136808)\n",
      "Epoch 136 : (Loss : 0.5696150332083886, Correctness : 0.6954397394136808)\n",
      "Epoch 137 : (Loss : 0.5692278041594483, Correctness : 0.6970684039087948)\n",
      "Epoch 138 : (Loss : 0.5688428733951658, Correctness : 0.6970684039087948)\n",
      "Epoch 139 : (Loss : 0.5684602204573892, Correctness : 0.6970684039087948)\n",
      "Epoch 140 : (Loss : 0.568079825118468, Correctness : 0.6986970684039088)\n",
      "Epoch 141 : (Loss : 0.5677016673783792, Correctness : 0.7019543973941368)\n",
      "Epoch 142 : (Loss : 0.5673257274618866, Correctness : 0.7019543973941368)\n",
      "Epoch 143 : (Loss : 0.5669519858157341, Correctness : 0.7019543973941368)\n",
      "Epoch 144 : (Loss : 0.5665804231058751, Correctness : 0.7019543973941368)\n",
      "Epoch 145 : (Loss : 0.5662110202147336, Correctness : 0.7019543973941368)\n",
      "Epoch 146 : (Loss : 0.5658437582385011, Correctness : 0.7019543973941368)\n",
      "Epoch 147 : (Loss : 0.5654786184844651, Correctness : 0.7019543973941368)\n",
      "Epoch 148 : (Loss : 0.5651155824683707, Correctness : 0.7019543973941368)\n"
     ]
    },
    {
     "name": "stdout",
     "output_type": "stream",
     "text": [
      "Epoch 149 : (Loss : 0.5647546319118164, Correctness : 0.7019543973941368)\n",
      "Epoch 150 : (Loss : 0.5643957487396797, Correctness : 0.7035830618892508)\n",
      "Epoch 151 : (Loss : 0.5640389150775775, Correctness : 0.7035830618892508)\n",
      "Epoch 152 : (Loss : 0.5636841132493555, Correctness : 0.7052117263843648)\n",
      "Epoch 153 : (Loss : 0.5633313257746109, Correctness : 0.7052117263843648)\n",
      "Epoch 154 : (Loss : 0.5629805353662457, Correctness : 0.7068403908794788)\n",
      "Epoch 155 : (Loss : 0.5626317249280501, Correctness : 0.7068403908794788)\n",
      "Epoch 156 : (Loss : 0.5622848775523173, Correctness : 0.7084690553745928)\n",
      "Epoch 157 : (Loss : 0.5619399765174867, Correctness : 0.7068403908794788)\n",
      "Epoch 158 : (Loss : 0.5615970052858197, Correctness : 0.7068403908794788)\n",
      "Epoch 159 : (Loss : 0.5612559475011017, Correctness : 0.7084690553745928)\n",
      "Epoch 160 : (Loss : 0.5609167869863763, Correctness : 0.7084690553745928)\n",
      "Epoch 161 : (Loss : 0.5605795077417055, Correctness : 0.7100977198697068)\n",
      "Epoch 162 : (Loss : 0.5602440939419611, Correctness : 0.7117263843648208)\n",
      "Epoch 163 : (Loss : 0.5599105299346416, Correctness : 0.7100977198697068)\n",
      "Epoch 164 : (Loss : 0.5595788002377201, Correctness : 0.7100977198697068)\n",
      "Epoch 165 : (Loss : 0.5592488895375164, Correctness : 0.7100977198697068)\n",
      "Epoch 166 : (Loss : 0.5589207826865993, Correctness : 0.7117263843648208)\n",
      "Epoch 167 : (Loss : 0.5585944647017138, Correctness : 0.7133550488599348)\n",
      "Epoch 168 : (Loss : 0.558269920761736, Correctness : 0.7149837133550488)\n",
      "Epoch 169 : (Loss : 0.5579471362056546, Correctness : 0.7149837133550488)\n",
      "Epoch 170 : (Loss : 0.5576260965305775, Correctness : 0.7149837133550488)\n",
      "Epoch 171 : (Loss : 0.5573067873897642, Correctness : 0.7133550488599348)\n",
      "Epoch 172 : (Loss : 0.556989194590685, Correctness : 0.7149837133550488)\n",
      "Epoch 173 : (Loss : 0.5566733040931038, Correctness : 0.7149837133550488)\n",
      "Epoch 174 : (Loss : 0.5563591020071862, Correctness : 0.7149837133550488)\n",
      "Epoch 175 : (Loss : 0.5560465745916329, Correctness : 0.7149837133550488)\n",
      "Epoch 176 : (Loss : 0.5557357082518363, Correctness : 0.7182410423452769)\n",
      "Epoch 177 : (Loss : 0.5554264895380616, Correctness : 0.7182410423452769)\n",
      "Epoch 178 : (Loss : 0.5551189051436516, Correctness : 0.7198697068403909)\n",
      "Epoch 179 : (Loss : 0.5548129419032548, Correctness : 0.7214983713355049)\n",
      "Epoch 180 : (Loss : 0.5545085867910765, Correctness : 0.7214983713355049)\n",
      "Epoch 181 : (Loss : 0.5542058269191532, Correctness : 0.7214983713355049)\n",
      "Epoch 182 : (Loss : 0.5539046495356488, Correctness : 0.7231270358306189)\n",
      "Epoch 183 : (Loss : 0.5536050420231735, Correctness : 0.7214983713355049)\n",
      "Epoch 184 : (Loss : 0.553306991897125, Correctness : 0.7214983713355049)\n",
      "Epoch 185 : (Loss : 0.5530104868040511, Correctness : 0.7214983713355049)\n",
      "Epoch 186 : (Loss : 0.5527155145200332, Correctness : 0.7214983713355049)\n",
      "Epoch 187 : (Loss : 0.5524220629490922, Correctness : 0.7231270358306189)\n",
      "Epoch 188 : (Loss : 0.5521301201216144, Correctness : 0.7231270358306189)\n",
      "Epoch 189 : (Loss : 0.5518396741927987, Correctness : 0.7231270358306189)\n",
      "Epoch 190 : (Loss : 0.5515507134411226, Correctness : 0.7231270358306189)\n",
      "Epoch 191 : (Loss : 0.5512632262668312, Correctness : 0.7231270358306189)\n",
      "Epoch 192 : (Loss : 0.5509772011904437, Correctness : 0.7231270358306189)\n",
      "Epoch 193 : (Loss : 0.5506926268512802, Correctness : 0.7247557003257329)\n",
      "Epoch 194 : (Loss : 0.5504094920060078, Correctness : 0.7247557003257329)\n",
      "Epoch 195 : (Loss : 0.550127785527207, Correctness : 0.7247557003257329)\n",
      "Epoch 196 : (Loss : 0.5498474964019548, Correctness : 0.7263843648208469)\n",
      "Epoch 197 : (Loss : 0.5495686137304283, Correctness : 0.7263843648208469)\n",
      "Epoch 198 : (Loss : 0.5492911267245262, Correctness : 0.7263843648208469)\n",
      "Epoch 199 : (Loss : 0.5490150247065075, Correctness : 0.7263843648208469)\n",
      "Epoch 200 : (Loss : 0.5487402971076503, Correctness : 0.7263843648208469)\n",
      "Final train accuracy: 72.63843648208469 %\n",
      "Final test accuracy: 66.23376623376623 %\n"
     ]
    }
   ],
   "source": [
    "d = model(train_data,train_labels, test_data, test_labels, num_epochs = 200, learning_rate = 0.5)"
   ]
  },
  {
   "cell_type": "code",
   "execution_count": 28,
   "metadata": {},
   "outputs": [
    {
     "data": {
      "image/png": "[encoded data removed]",
      "text/plain": [
       "<Figure size 432x288 with 1 Axes>"
      ]
     },
     "metadata": {
      "needs_background": "light"
     },
     "output_type": "display_data"
    }
   ],
   "source": [
    "import matplotlib.pyplot as plt\n",
    "plt.plot(d[\"costs\"]);\n",
    "plt.xlabel(\"Epochs\")\n",
    "plt.ylabel(\"Cost\");"
   ]
  },
  {
   "cell_type": "code",
   "execution_count": 31,
   "metadata": {},
   "outputs": [
    {
     "data": {
      "image/png": "[encoded data removed]",
      "text/plain": [
       "<Figure size 432x288 with 1 Axes>"
      ]
     },
     "metadata": {
      "needs_background": "light"
     },
     "output_type": "display_data"
    }
   ],
   "source": [
    "plt.plot(d[\"accuracies\"]);\n",
    "plt.xlabel(\"Epochs\")\n",
    "plt.ylabel(\"Accuracy\");"
   ]
  },
  {
   "cell_type": "code",
   "execution_count": 32,
   "metadata": {},
   "outputs": [
    {
     "data": {
      "text/plain": [
       "(1, 154)"
      ]
     },
     "execution_count": 32,
     "metadata": {},
     "output_type": "execute_result"
    }
   ],
   "source": []
  },
  {
   "cell_type": "code",
   "execution_count": null,
   "metadata": {},
   "outputs": [],
   "source": []
  }
 ],
 "metadata": {
  "kernelspec": {
   "display_name": "Python 3",
   "language": "python",
   "name": "python3"
  },
  "language_info": {
   "codemirror_mode": {
    "name": "ipython",
    "version": 3
   },
   "file_extension": ".py",
   "mimetype": "text/x-python",
   "name": "python",
   "nbconvert_exporter": "python",
   "pygments_lexer": "ipython3",
   "version": "3.8.2"
  }
 },
 "nbformat": 4,
 "nbformat_minor": 4
}
